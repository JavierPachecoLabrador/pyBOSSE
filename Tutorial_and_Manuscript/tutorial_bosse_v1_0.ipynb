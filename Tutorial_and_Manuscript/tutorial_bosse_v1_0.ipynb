{
 "cells": [
  {
   "cell_type": "markdown",
   "metadata": {},
   "source": [
    "# **Biodiversity Observing System Simulation Experiment (BOSSE v1.0) Tutorial**"
   ]
  },
  {
   "cell_type": "markdown",
   "metadata": {},
   "source": []
  },
  {
   "cell_type": "markdown",
   "metadata": {},
   "source": [
    "This tutoral shows how to  use the BOSSE class to simulate Scenes snapshots and time series, extracting different variables with ad-hoc features (e.g., uncertainty or spatial resolution), plot them, and analyze functional diversity using the PyGNDiv package."
   ]
  },
  {
   "cell_type": "markdown",
   "metadata": {},
   "source": [
    "## **Import packages**"
   ]
  },
  {
   "cell_type": "markdown",
   "metadata": {},
   "source": [
    "Import Python packages"
   ]
  },
  {
   "cell_type": "code",
   "execution_count": null,
   "metadata": {},
   "outputs": [],
   "source": [
    "import os\n",
    "import sys\n",
    "import pandas as pd\n",
    "import numpy as np\n",
    "import matplotlib.pyplot as plt"
   ]
  },
  {
   "cell_type": "markdown",
   "metadata": {},
   "source": [
    "Import BOSSE and pyGNDIv packages from local folders"
   ]
  },
  {
   "cell_type": "code",
   "execution_count": null,
   "metadata": {},
   "outputs": [],
   "source": [
    "# Import BOSSE and pyGNDIV\n",
    "parent_foler = os.path.abspath(\n",
    "    os.path.join(os.path.abspath(\n",
    "        os.path.join(os.getcwd(), os.pardir)), os.pardir))\n",
    "path_bosse = (parent_foler + '//pyBOSSE//')\n",
    "\n",
    "sys.path.insert(0, path_bosse)\n",
    "from BOSSE.bosse import BosseModel\n",
    "from BOSSE.helpers import set_up_paths_and_inputs, print_dict\n",
    "\n",
    "from pyGNDiv import pyGNDiv_imagery as gni"
   ]
  },
  {
   "cell_type": "markdown",
   "metadata": {},
   "source": [
    "## **1) INTIALIZATOIN**\n",
    "This section shows how to intialize the BOSSE class, and how to initialize a scene with different features"
   ]
  },
  {
   "cell_type": "markdown",
   "metadata": {},
   "source": [
    "Set the path from where BOSSE load differeint inputs and models"
   ]
  },
  {
   "cell_type": "code",
   "execution_count": null,
   "metadata": {},
   "outputs": [],
   "source": [
    "pth_inputs= path_bosse + '//BOSSE_inputs//'\n",
    "pth_models= path_bosse + '//BOSSE_models//'"
   ]
  },
  {
   "cell_type": "markdown",
   "metadata": {},
   "source": [
    "Set output folder"
   ]
  },
  {
   "cell_type": "code",
   "execution_count": null,
   "metadata": {},
   "outputs": [],
   "source": [
    "output_folder = parent_foler + '//tutorial_bosse_v1_0_figures//'"
   ]
  },
  {
   "cell_type": "markdown",
   "metadata": {},
   "source": [
    "Generate standard set of input options and paths\n"
   ]
  },
  {
   "cell_type": "code",
   "execution_count": null,
   "metadata": {},
   "outputs": [],
   "source": [
    "(inputs_, paths_) = set_up_paths_and_inputs(None, output_folder,\n",
    "                                            pth_root=path_bosse,\n",
    "                                            pth_inputs=pth_inputs,\n",
    "                                            pth_models=pth_models)"
   ]
  },
  {
   "cell_type": "markdown",
   "metadata": {},
   "source": [
    "These are the default configuration options. However, it woudl be possible to change the inputs before the BOSSE class or the scene are initialized. For example, the spatial patterns inputs_['sp_pattern'] = 'clustered'"
   ]
  },
  {
   "cell_type": "code",
   "execution_count": null,
   "metadata": {},
   "outputs": [],
   "source": [
    "print_dict(inputs_, 'inputs')"
   ]
  },
  {
   "cell_type": "markdown",
   "metadata": {},
   "source": [
    "Initialize BOSSE class\n"
   ]
  },
  {
   "cell_type": "code",
   "execution_count": null,
   "metadata": {},
   "outputs": [],
   "source": [
    "bosse_M = BosseModel(inputs_, paths_)"
   ]
  },
  {
   "cell_type": "markdown",
   "metadata": {},
   "source": [
    "Update the input options dictionary. Setting up \"inputs_['inspect'] = True\" will produce several outputs in the folder: \"(output_folder + inputs_['sp_pattern'] + '//Plots')\"\n"
   ]
  },
  {
   "cell_type": "code",
   "execution_count": null,
   "metadata": {},
   "outputs": [],
   "source": [
    "inputs_['inspect'] = True"
   ]
  },
  {
   "cell_type": "markdown",
   "metadata": {},
   "source": [
    "Intialize scene. \"0\" correspondos to the file name of the meteo file '*_0.nc. Also, it uses the optional arguments of the BOSSE class Scene initialization method to show, only in this case, information about the initialization and generate some plots related with the Scene. Since the option \"inspect\" has been set to True, the initialization will also produce different plots that summarize spatial, temporal, and ecological information about the Scene generated"
   ]
  },
  {
   "cell_type": "code",
   "execution_count": null,
   "metadata": {},
   "outputs": [],
   "source": [
    "bosse_M.initialize_scene(0, seednum_=100, verbose=True)\n",
    "print('Check out the plots produced in %s' % (\n",
    "    os.path.abspath(output_folder + inputs_['subfolder_out'] + 'Plots')))"
   ]
  },
  {
   "cell_type": "markdown",
   "metadata": {},
   "source": [
    "Show the species map"
   ]
  },
  {
   "cell_type": "code",
   "execution_count": null,
   "metadata": {},
   "outputs": [],
   "source": [
    "bosse_M.show_bosse_map(\n",
    "    bosse_M.sp_map, title_lb='Species map ($S$ = %d)' % bosse_M.S_max,\n",
    "    cmap='tab20', fname=(output_folder + 'tutorial_1-0_SpMap_' +\n",
    "                         inputs_['sp_pattern'] + '.png'), plt_show=True)"
   ]
  },
  {
   "cell_type": "markdown",
   "metadata": {},
   "source": [
    "## **2) SIMULATION**\n",
    "This section shows how to use the BOSSE class to simulate different variables and Scenes"
   ]
  },
  {
   "cell_type": "markdown",
   "metadata": {},
   "source": [
    "For these simulations, select a North hemisphere summer day"
   ]
  },
  {
   "cell_type": "code",
   "execution_count": null,
   "metadata": {},
   "outputs": [],
   "source": [
    "t_ = int(30 * 6.5)"
   ]
  },
  {
   "cell_type": "markdown",
   "metadata": {},
   "source": [
    "### 2.1) Traits and environmental variables"
   ]
  },
  {
   "cell_type": "markdown",
   "metadata": {},
   "source": [
    "Get the plant traits, soil, and meteorological variables"
   ]
  },
  {
   "cell_type": "code",
   "execution_count": null,
   "metadata": {},
   "outputs": [],
   "source": [
    "print(f'Generating variables at DoY {t_}: ', bosse_M.all_vars) \n",
    "X_ = bosse_M.pred_scene_timestamp(t_, 'meteo_mdy', 'indx_mdy')"
   ]
  },
  {
   "cell_type": "markdown",
   "metadata": {},
   "source": [
    "Plot LAI and leaf chlorophyll content"
   ]
  },
  {
   "cell_type": "code",
   "execution_count": null,
   "metadata": {},
   "outputs": [],
   "source": [
    "bosse_M.show_bosse_map(\n",
    "    X_[:, :, bosse_M.all_vars.index('LAI')],\n",
    "    title_lb=bosse_M.get_variable_label('LAI'), plt_show=True, fname=(\n",
    "        output_folder + 'tutorial_2-1_PT-LAI_' + inputs_['sp_pattern'] + '.png'))\n",
    "bosse_M.show_bosse_map(\n",
    "    X_[:, :, bosse_M.all_vars.index('Cab')],\n",
    "    title_lb=bosse_M.get_variable_label('Cab'), plt_show=True, fname=(\n",
    "        output_folder + 'tutorial_2-1_PT-Cab_' + inputs_['sp_pattern'] + '.png'))\n",
    "bosse_M.show_bosse_map(\n",
    "    X_[:, :, bosse_M.all_vars.index('Cdm')],\n",
    "    title_lb=bosse_M.get_variable_label('Cdm'), plt_show=True, fname=(\n",
    "        output_folder + 'tutorial_2-1_PT-Cdm_' + inputs_['sp_pattern'] + '.png'))\n",
    "\n",
    "print('These plots produced from now on are stored in %s' %\n",
    "      os.path.abspath(output_folder))"
   ]
  },
  {
   "cell_type": "markdown",
   "metadata": {},
   "source": [
    "### 2.2) Reflectance factors"
   ]
  },
  {
   "cell_type": "markdown",
   "metadata": {},
   "source": [
    "Get the reflectance factors"
   ]
  },
  {
   "cell_type": "code",
   "execution_count": null,
   "metadata": {},
   "outputs": [],
   "source": [
    "RF_ = bosse_M.pred_refl_factors(X_, inputs_['scene_sz'],\n",
    "                                sp_res=inputs_['spat_res'])\n",
    "print('Size of the hyperspectral cube: %d x %d x %d' % RF_.shape)"
   ]
  },
  {
   "cell_type": "markdown",
   "metadata": {},
   "source": [
    "Plot species' reflectance factors spectra"
   ]
  },
  {
   "cell_type": "code",
   "execution_count": null,
   "metadata": {},
   "outputs": [],
   "source": [
    "bosse_M.plot_species_spectra(bosse_M.M_R['wl'], RF_,\n",
    "                             bosse_M.get_variable_label('R'), plt_show=True,\n",
    "                             fname=(output_folder + 'tutorial_2-2_RF' +\n",
    "                                    inputs_['sp_pattern'] +'.png'))"
   ]
  },
  {
   "cell_type": "markdown",
   "metadata": {},
   "source": [
    " Show the NDVI image"
   ]
  },
  {
   "cell_type": "code",
   "execution_count": null,
   "metadata": {},
   "outputs": [],
   "source": [
    "I_red = bosse_M.M_R['wl'] == 650\n",
    "I_nir = bosse_M.M_R['wl'] == 800\n",
    "NDVI_ = ((RF_[:, :, I_nir] - RF_[:, :, I_red]) /\n",
    "         (RF_[:, :, I_nir] + RF_[:, :, I_red]))\n",
    "bosse_M.show_bosse_map(NDVI_, title_lb='$NDVI_{\\\\rm sr=100}$ [-]',\n",
    "                       plt_show=True, fname=(output_folder +\n",
    "                                             'tutorial_2-2_RF100-NDVI_' +\n",
    "                                             inputs_['sp_pattern'] + '.png'))"
   ]
  },
  {
   "cell_type": "markdown",
   "metadata": {},
   "source": [
    "Get the reflectance factors at degraded spatial resolutions and show the NDVI"
   ]
  },
  {
   "cell_type": "code",
   "execution_count": null,
   "metadata": {},
   "outputs": [],
   "source": [
    "spatial_resolutions = [90, 60, 30, 10, 5]\n",
    "for sr_ in spatial_resolutions:\n",
    "    RF_sr_deg = bosse_M.pred_refl_factors(X_, inputs_['scene_sz'], sp_res=sr_)\n",
    "    print('Size of the hyperspectral cube: %d x %d x %d' % RF_sr_deg.shape)\n",
    "\n",
    "    NDVI_sr_deg = ((RF_sr_deg[:, :, I_nir] - RF_sr_deg[:, :, I_red]) /\n",
    "                   (RF_sr_deg[:, :, I_nir] + RF_sr_deg[:, :, I_red]))\n",
    "    bosse_M.show_bosse_map(\n",
    "        NDVI_sr_deg, title_lb='$NDVI_{\\\\rm sr=%d}$ [-]' % sr_, plt_show=True,\n",
    "        fname=(output_folder + ('tutorial_2-2_RF%d-NDVI_' % sr_) +\n",
    "               inputs_['sp_pattern'] + '.png'))"
   ]
  },
  {
   "cell_type": "markdown",
   "metadata": {},
   "source": [
    "Get the reflectance factors with a constant 0.1 absolute random noise"
   ]
  },
  {
   "cell_type": "code",
   "execution_count": null,
   "metadata": {},
   "outputs": [],
   "source": [
    "RF_n01 = bosse_M.pred_refl_factors(X_, inputs_['scene_sz'],\n",
    "                                   sp_res=inputs_['spat_res'],\n",
    "                                   abs_rand_noise=.01, rand_seed=100)"
   ]
  },
  {
   "cell_type": "markdown",
   "metadata": {},
   "source": [
    "Get the reflectance factors adding random raising from 0.25 % to 0.50 % from  400 mn to 2400 nm"
   ]
  },
  {
   "cell_type": "code",
   "execution_count": null,
   "metadata": {},
   "outputs": [],
   "source": [
    "RF_n25_50 = bosse_M.pred_refl_factors(X_, inputs_['scene_sz'],\n",
    "                                      sp_res=inputs_['spat_res'],\n",
    "                                      rel_rand_noise=np.linspace(\n",
    "                                         .025, .05, RF_.shape[2]),\n",
    "                                      rand_seed=200)"
   ]
  },
  {
   "cell_type": "markdown",
   "metadata": {},
   "source": [
    "Plot the hyperspectral reflectance factors with and without noise"
   ]
  },
  {
   "cell_type": "code",
   "execution_count": null,
   "metadata": {},
   "outputs": [],
   "source": [
    "plt.figure()\n",
    "plt.grid()\n",
    "plt.plot(bosse_M.M_R['wl'], RF_n25_50[0, 0, :], 'r', label='Varying relative random noise')\n",
    "plt.plot(bosse_M.M_R['wl'], RF_n01[0, 0, :], 'k', label='Constant absolute random noise')\n",
    "plt.plot(bosse_M.M_R['wl'], RF_[0, 0, :], 'b', label='Noiseless')\n",
    "plt.xlabel('$\\\\lambda$ [nm]')\n",
    "plt.ylabel('$R$ [-]')\n",
    "plt.legend()\n",
    "plt.tight_layout()\n",
    "plt.savefig((output_folder + 'tutorial_2-2_RF_noises' + inputs_['sp_pattern'] +\n",
    "             '.png'), dpi=300)\n",
    "plt.show(block=False)"
   ]
  },
  {
   "cell_type": "markdown",
   "metadata": {},
   "source": [
    "### 2.3) Optical traits "
   ]
  },
  {
   "cell_type": "markdown",
   "metadata": {},
   "source": [
    "Retrieval of optical traits from reflectance and sun zenith angle"
   ]
  },
  {
   "cell_type": "code",
   "execution_count": null,
   "metadata": {},
   "outputs": [],
   "source": [
    "print('The estimated plant traits are: ', bosse_M.M_Rinv['pred_vars'])\n",
    "RF_size = RF_.shape\n",
    "ones_layer = np.ones((RF_size[0] * RF_size[1], 1))"
   ]
  },
  {
   "cell_type": "markdown",
   "metadata": {},
   "source": [
    "Retrieval of optical traits from reflectance factors without noise"
   ]
  },
  {
   "cell_type": "code",
   "execution_count": null,
   "metadata": {},
   "outputs": [],
   "source": [
    "OT_ = bosse_M.pred_opt_traits(np.concatenate((\n",
    "    bosse_M.transf3D_2_2D(RF_), ones_layer *\n",
    "    bosse_M.meteo_mdy.loc[t_, 'tts']), axis=1), RF_size[0])\n",
    "bosse_M.show_bosse_map(OT_[:, :, bosse_M.all_vars.index('LAI')],\n",
    "                       title_lb=(bosse_M.get_variable_label('LAI') +\n",
    "                                 ' (Noiseless)'), plt_show=True,\n",
    "                       fname=(output_folder + 'tutorial_2-3_OT-LAI_' +\n",
    "                              inputs_['sp_pattern'] + '.png'))"
   ]
  },
  {
   "cell_type": "markdown",
   "metadata": {},
   "source": [
    "Retrieval of optical traits from reflectance factors with constant 0.1 absolute random noise"
   ]
  },
  {
   "cell_type": "code",
   "execution_count": null,
   "metadata": {},
   "outputs": [],
   "source": [
    "OT_n01 = bosse_M.pred_opt_traits(np.concatenate((\n",
    "    bosse_M.transf3D_2_2D(RF_n01), ones_layer *\n",
    "    bosse_M.meteo_mdy.loc[t_, 'tts']), axis=1), RF_size[0])\n",
    "bosse_M.show_bosse_map(OT_n01[:, :, bosse_M.all_vars.index('LAI')],\n",
    "                       title_lb=(bosse_M.get_variable_label('LAI') +\n",
    "                                 ' (Monochromatic noise)'),\n",
    "                       plt_show=True,\n",
    "                       fname=(output_folder + 'tutorial_2-3_OTn01-LAI_' +\n",
    "                              inputs_['sp_pattern'] + '.png'))"
   ]
  },
  {
   "cell_type": "markdown",
   "metadata": {},
   "source": [
    "Retrieval of optical traits from reflectance factors with noise raising from 0.25 % to 0.50 % from 400 mn to 2400 nm"
   ]
  },
  {
   "cell_type": "code",
   "execution_count": null,
   "metadata": {},
   "outputs": [],
   "source": [
    "OT_n25_50 = bosse_M.pred_opt_traits(np.concatenate((\n",
    "    bosse_M.transf3D_2_2D(RF_n25_50), ones_layer *\n",
    "    bosse_M.meteo_mdy.loc[t_, 'tts']), axis=1), RF_size[0])\n",
    "bosse_M.show_bosse_map(OT_n25_50[:, :, bosse_M.all_vars.index('LAI')],\n",
    "                       title_lb=(bosse_M.get_variable_label('LAI') +\n",
    "                                 ' (Spectrally-dependeny noise)'),\n",
    "                       plt_show=True,\n",
    "                       fname=(output_folder + 'tutorial_2-3_OTn25-50-LAI_' +\n",
    "                              inputs_['sp_pattern'] + '.png'))"
   ]
  },
  {
   "cell_type": "markdown",
   "metadata": {},
   "source": [
    "### 2.4) Sun-induced chlorophyll fluorescence"
   ]
  },
  {
   "cell_type": "markdown",
   "metadata": {},
   "source": [
    "Get sun-induced chlorophyll fluorescence radiances"
   ]
  },
  {
   "cell_type": "code",
   "execution_count": null,
   "metadata": {},
   "outputs": [],
   "source": [
    "F_ = bosse_M.pred_fluorescence_rad(X_, inputs_['scene_sz'],\n",
    "                                   inputs_['scene_sz'],\n",
    "                                   sp_res=inputs_['spat_res'])"
   ]
  },
  {
   "cell_type": "markdown",
   "metadata": {},
   "source": [
    "Plot species' sun-induced chlorophyll fluorescence radiance spectra"
   ]
  },
  {
   "cell_type": "code",
   "execution_count": null,
   "metadata": {},
   "outputs": [],
   "source": [
    "bosse_M.plot_species_spectra(bosse_M.M_F['wl'], F_,\n",
    "                             bosse_M.get_variable_label('F'), plt_show=True,\n",
    "                             fname=(output_folder + 'tutorial_2-4_F' +\n",
    "                                    inputs_['sp_pattern'] +'.png'))\n",
    "\n",
    "bosse_M.show_bosse_map(F_[:, :, bosse_M.M_F['wl']==687],\n",
    "                       title_lb=bosse_M.get_variable_label(\n",
    "                           'F', subscript='\\\\rm 687nm'), plt_show=True,\n",
    "                       fname=(output_folder + 'tutorial_2-4_F-687_' +\n",
    "                              inputs_['sp_pattern'] + '.png'))\n",
    "bosse_M.show_bosse_map(F_[:, :, bosse_M.M_F['wl']==760],\n",
    "                       title_lb=bosse_M.get_variable_label(\n",
    "                           'F', subscript='\\\\rm 760nm'), plt_show=True,\n",
    "                       fname=(output_folder + 'tutorial_2-4_F-760_' +\n",
    "                              inputs_['sp_pattern'] + '.png'))"
   ]
  },
  {
   "cell_type": "markdown",
   "metadata": {},
   "source": [
    "Get sun-induced chlorophyll fluorescence radiances with 0.05 % noise"
   ]
  },
  {
   "cell_type": "code",
   "execution_count": null,
   "metadata": {},
   "outputs": [],
   "source": [
    "F_n50 = bosse_M.pred_fluorescence_rad(X_, inputs_['scene_sz'],\n",
    "                                      inputs_['scene_sz'],\n",
    "                                      sp_res=inputs_['spat_res'],\n",
    "                                      rel_rand_noise=.05)\n",
    "bosse_M.show_bosse_map(F_n50[:, :, bosse_M.M_F['wl']==687],\n",
    "                       title_lb=(bosse_M.get_variable_label(\n",
    "                           'F', subscript='\\\\rm 687nm') + ' (Constant noise)'),\n",
    "                       plt_show=True, fname=(\n",
    "                           output_folder + 'tutorial_2-4_Fn50-687_' +\n",
    "                           inputs_['sp_pattern'] + '.png'))\n",
    "bosse_M.show_bosse_map(F_n50[:, :, bosse_M.M_F['wl']==760],\n",
    "                       title_lb=(bosse_M.get_variable_label(\n",
    "                           'F', subscript='\\\\rm 760nm') + ' (Constant noise)'),\n",
    "                       plt_show=True, fname=(\n",
    "                           output_folder + 'tutorial_2-4_Fn50-760_' +\n",
    "                           inputs_['sp_pattern'] + '.png'))"
   ]
  },
  {
   "cell_type": "markdown",
   "metadata": {},
   "source": [
    "### 2.5) Land Surface Temperature"
   ]
  },
  {
   "cell_type": "markdown",
   "metadata": {},
   "source": [
    "Get Land Surface Temperature without noise"
   ]
  },
  {
   "cell_type": "code",
   "execution_count": null,
   "metadata": {},
   "outputs": [],
   "source": [
    "LST_ = bosse_M.pred_landsurf_temp(X_, inputs_['scene_sz'],\n",
    "                                  sp_res=inputs_['spat_res'])\n",
    "bosse_M.show_bosse_map(LST_, title_lb=bosse_M.get_variable_label('LST'),\n",
    "                       plt_show=True, fname=(\n",
    "                           output_folder + 'tutorial_2-5_LST_' +\n",
    "                           inputs_['sp_pattern'] + '.png'))"
   ]
  },
  {
   "cell_type": "markdown",
   "metadata": {},
   "source": [
    "Get Lands Surface Temperature with noise described in absolute terms: 1 K"
   ]
  },
  {
   "cell_type": "code",
   "execution_count": null,
   "metadata": {},
   "outputs": [],
   "source": [
    "LST_1K = bosse_M.pred_landsurf_temp(X_, inputs_['scene_sz'],\n",
    "                                    sp_res=inputs_['spat_res'],\n",
    "                                    abs_rand_noise=1.)\n",
    "bosse_M.show_bosse_map(LST_1K, title_lb=(bosse_M.get_variable_label('LST') +\n",
    "                                         ' (Constant Noise)'), plt_show=True,\n",
    "                       fname=(output_folder + 'tutorial_2-5_LST1K_' +\n",
    "                              inputs_['sp_pattern'] + '.png'))"
   ]
  },
  {
   "cell_type": "markdown",
   "metadata": {},
   "source": [
    "### 2.6) Ecosystem functions"
   ]
  },
  {
   "cell_type": "markdown",
   "metadata": {},
   "source": [
    "Get the plant traits, soil, and meteorological variables at midday of the same summer day than before."
   ]
  },
  {
   "cell_type": "code",
   "execution_count": null,
   "metadata": {},
   "outputs": [],
   "source": [
    "t_ = int(30 * 6.5 * 24 + 12)\n",
    "X_ = bosse_M.pred_scene_timestamp(t_ , 'meteo_', 'indx_day')"
   ]
  },
  {
   "cell_type": "markdown",
   "metadata": {},
   "source": [
    "Get the plant traits, soil, and meteorological variables at midday"
   ]
  },
  {
   "cell_type": "code",
   "execution_count": null,
   "metadata": {},
   "outputs": [],
   "source": [
    "(time_out, GPP, Rb, Rb_15C, NEP, LUE, LUEgreen, lE, T, H, Rn, G, ustar\n",
    " ) = bosse_M.pred_ecosys_funct(t_, X_, 'meteo_', output_map=True)"
   ]
  },
  {
   "cell_type": "markdown",
   "metadata": {},
   "source": [
    "Plot some fluxes as maps"
   ]
  },
  {
   "cell_type": "code",
   "execution_count": null,
   "metadata": {},
   "outputs": [],
   "source": [
    "bosse_M.show_bosse_map(GPP, title_lb=bosse_M.get_variable_label('GPP'),\n",
    "                       plt_show=True, fname=(\n",
    "                           output_folder + 'tutorial_2-6_eFun_GPP_' +\n",
    "                           inputs_['sp_pattern'] + '.png'))\n",
    "\n",
    "bosse_M.show_bosse_map(LUE, title_lb=bosse_M.get_variable_label('LUE'),\n",
    "                       plt_show=True, fname=(\n",
    "                           output_folder + 'tutorial_2-6_eFun_LUE_' +\n",
    "                           inputs_['sp_pattern'] + '.png'))\n",
    "\n",
    "bosse_M.show_bosse_map(lE, title_lb=bosse_M.get_variable_label('lE'),\n",
    "                       plt_show=True, fname=(\n",
    "                           output_folder + 'tutorial_2-6_eFun_lE_' +\n",
    "                           inputs_['sp_pattern'] + '.png'))\n",
    "\n",
    "bosse_M.show_bosse_map(Rb, title_lb=bosse_M.get_variable_label('Rb'),\n",
    "                       plt_show=True, fname=(\n",
    "                           output_folder + 'tutorial_2-6_eFun_Rb_' +\n",
    "                           inputs_['sp_pattern'] + '.png'))"
   ]
  },
  {
   "cell_type": "markdown",
   "metadata": {},
   "source": [
    "Plot a diel series of the Scene averaged fluxes accross the day. Also, add a 10 % random noise"
   ]
  },
  {
   "cell_type": "code",
   "execution_count": null,
   "metadata": {},
   "outputs": [],
   "source": [
    "fig, ax = plt.subplots(2, 2, sharex=True)\n",
    "ax[0, 0].set_ylabel(bosse_M.get_variable_label('GPP'))\n",
    "ax[0, 1].set_ylabel(bosse_M.get_variable_label('LUE'))\n",
    "ax[1, 0].set_ylabel(bosse_M.get_variable_label('lE'))\n",
    "ax[1, 1].set_ylabel(bosse_M.get_variable_label('Rb'))\n",
    "\n",
    "ax[0, 0].set_xlabel('DoY')\n",
    "ax[0, 1].set_xlabel('DoY')\n",
    "ax[1, 0].set_xlabel('DoY')\n",
    "ax[1, 1].set_xlabel('DoY')\n",
    "\n",
    "ax[0, 0].grid()\n",
    "ax[0, 1].grid()\n",
    "ax[1, 0].grid()\n",
    "ax[1, 1].grid()\n",
    "plt.tight_layout()\n",
    "\n",
    "t0_ = int(30 * 6.5 * 24)\n",
    "for i_ in range(24):\n",
    "    X_ = bosse_M.pred_scene_timestamp(t0_ + i_, 'meteo_', 'indx_day')\n",
    "    \n",
    "    (t_out, GPP, Rb, Rb_15C, NEP, LUE, LUEgreen, lE, T, H, Rn, G, ustar\n",
    "     ) = bosse_M.pred_ecosys_funct(t0_ + i_, X_, 'meteo_', output_map=False)\n",
    "     \n",
    "    (t_out, GPPn, Rbn, Rb_15Cn, NEPn, LUEn, LUEgreenn, lEn, Tn, Hn, Rnn, Gn, ustarn\n",
    "     ) = bosse_M.pred_ecosys_funct(t0_ + i_, X_, 'meteo_', output_map=False,\n",
    "                                   rel_rand_noise=0.1, rand_seed=i_ * 50)\n",
    "\n",
    "    ax[0, 0].plot(30 * 6.5 + i_ / 24, GPP, 'o', c='Green')\n",
    "    ax[0, 0].plot(30 * 6.5 + i_ / 24, GPPn, '.', c='k')\n",
    "    ax[0, 1].plot(30 * 6.5 + i_ / 24, LUE, 'd', c='Indigo')\n",
    "    ax[0, 1].plot(30 * 6.5 + i_ / 24, LUEn, '.', c='k')\n",
    "    ax[1, 0].plot(30 * 6.5 + i_ / 24, lE, 's', c='SteelBlue')\n",
    "    ax[1, 0].plot(30 * 6.5 + i_ / 24, lEn, '.', c='k')\n",
    "    ax[1, 1].plot(30 * 6.5 + i_ / 24, Rb, 'p', c='DarkRed')\n",
    "    ax[1, 1].plot(30 * 6.5 + i_ / 24, Rbn, '.', c='k')\n",
    "    \n",
    "plt.show(block=False)\n",
    "fig.savefig((output_folder + 'tutorial_2-6_eFun_timeseries_' +\n",
    "             inputs_['sp_pattern'] + '.png'), dpi=300)"
   ]
  },
  {
   "cell_type": "markdown",
   "metadata": {},
   "source": [
    "### 2.7) Storing simulations"
   ]
  },
  {
   "cell_type": "markdown",
   "metadata": {},
   "source": [
    "BOSSE includes two functions that allows storing the different datasets in NetCDF format so that these can be analyzed from other programming languages or softwares."
   ]
  },
  {
   "cell_type": "code",
   "execution_count": null,
   "metadata": {},
   "outputs": [],
   "source": [
    "import netCDF4 as nc\n",
    "from BOSSE.helpers import save_to_netcdf_layers, save_to_netcdf_cube"
   ]
  },
  {
   "cell_type": "markdown",
   "metadata": {},
   "source": [
    "The first function stores layer per layer, and receives a dictionary with the variables to store in the NetCDF file"
   ]
  },
  {
   "cell_type": "code",
   "execution_count": null,
   "metadata": {},
   "outputs": [],
   "source": [
    "# Store Cab and LAI data\n",
    "save_to_netcdf_layers(output_folder + 'Test_layers.nc', inputs_['scene_sz'],\n",
    "               {'Cab': X_[:, :, bosse_M.all_vars.index('Cab')],\n",
    "                'LAI': X_[:, :, bosse_M.all_vars.index('LAI')]},\n",
    "                overwrite=True)\n",
    "\n",
    "# Read the stored data\n",
    "h = nc.Dataset(output_folder + 'Test_layers.nc')\n",
    "LAI_nc = h.variables['LAI'][:]\n",
    "Cab_nc = h.variables['Cab'][:]\n",
    "h.close()"
   ]
  },
  {
   "cell_type": "markdown",
   "metadata": {},
   "source": [
    "The second function stores 3D cubes of variables together with the variable values (e.g., wavelengths) or names (e.g., plant traits)"
   ]
  },
  {
   "cell_type": "code",
   "execution_count": null,
   "metadata": {},
   "outputs": [],
   "source": [
    "# Store all the plant traits\n",
    "save_to_netcdf_cube(output_folder + 'Test_cube_PT.nc',\n",
    "                    [inputs_['scene_sz'], inputs_['scene_sz'],\n",
    "                     len(bosse_M.I_pt)],\n",
    "                    X_[:, :, bosse_M.I_pt],\n",
    "                    var_names=[bosse_M.all_vars[i_] for i_ in bosse_M.I_pt],\n",
    "                    overwrite=True)\n",
    "\n",
    "# Read the stored data\n",
    "h = nc.Dataset(output_folder + 'Test_cube_PT.nc')\n",
    "PT_nc = h.variables['cube_data']\n",
    "PT_varnames = h.variables['var_names'][:]\n",
    "h.close()"
   ]
  },
  {
   "cell_type": "markdown",
   "metadata": {},
   "source": [
    "This function can be useful to store the hyperspectral cubes as well"
   ]
  },
  {
   "cell_type": "code",
   "execution_count": null,
   "metadata": {},
   "outputs": [],
   "source": [
    "# Store all the plant traits\n",
    "save_to_netcdf_cube(output_folder + 'Test_cube_RF.nc',\n",
    "                    RF_.shape,\n",
    "                    RF_,\n",
    "                    var_values=bosse_M.M_R['wl'],\n",
    "                    overwrite=True)\n",
    "\n",
    "# Read the stored data\n",
    "h = nc.Dataset(output_folder + 'Test_cube_RF.nc')\n",
    "RF_nc = h.variables['cube_data']\n",
    "wvl_nc = h.variables['var_values'][:]\n",
    "h.close()"
   ]
  },
  {
   "cell_type": "markdown",
   "metadata": {},
   "source": [
    "### 2.8) Manually changing model parameters"
   ]
  },
  {
   "cell_type": "markdown",
   "metadata": {},
   "source": [
    "For more ad-hoc simulations trying to represent specific research sites or ecosystems, it is possible to manually modify\n",
    "the BOSSE scene PFT-dependent limits and average values, so that simulations are closer to known sites. To do so, it is recommendable first initialicing a specific scene, modify the parameters, and then re-initialize the scene with the same seed number."
   ]
  },
  {
   "cell_type": "code",
   "execution_count": null,
   "metadata": {},
   "outputs": [],
   "source": [
    "# Initialize a scene with a specific climatic zone and spatial pattern. \n",
    "(inputs_0, paths_0) = set_up_paths_and_inputs(None, output_folder,\n",
    "                                            pth_root=path_bosse,\n",
    "                                            pth_inputs=pth_inputs,\n",
    "                                            pth_models=pth_models)\n",
    "\n",
    "# Congigure the scene\n",
    "inputs_0['clim_zone'] = 'Continental'\n",
    "inputs_0['sp_pattern'] = 'clustered'\n",
    "inputs_0['rseed_num'] = 200\n",
    "t_ = int(30 * 6.5)\n",
    "\n",
    "# Create BOSSE model    \n",
    "bosse_M0 = BosseModel(inputs_0, paths_0)\n",
    "\n",
    "# Intialize scene. 0 correspondos to the file name of the meteo file '*_0.nc'\n",
    "bosse_M0.initialize_scene(0, seednum_=inputs_0['rseed_num'])\n",
    "\n",
    "X_0 = bosse_M0.pred_scene_timestamp(t_, 'meteo_mdy', 'indx_mdy')\n",
    "\n",
    "# Map the species and PFTs. \n",
    "bosse_M0.show_pft_map(fname='Test0_pft', plt_show=False)\n",
    "bosse_M0.show_species_map(fname='Test0_sp',\n",
    "                          title_lb='BOSSE Species map ($S$=%d)' % bosse_M0.S_max,\n",
    "                          plt_show=False)\n",
    "# Plot LAI\n",
    "bosse_M0.show_bosse_map(\n",
    "    X_0[:, :, bosse_M0.all_vars.index('LAI')],\n",
    "    title_lb=bosse_M0.get_variable_label('LAI'),\n",
    "    fname='Test0_LAI')\n",
    "\n",
    "# Get the generated local PFT-dependent limits for the \n",
    "local_pft_lim={'var_names': [bosse_M0.all_vars[i_] for i_ in bosse_M0.I_pt],\n",
    "               'local_av': bosse_M0.local_av,\n",
    "               'local_LB': bosse_M0.local_LB,\n",
    "               'local_UB': bosse_M0.local_UB}\n",
    "\n",
    "# Modify the local limits of one of the PFTs. In this case, halve LAI values\n",
    "for ptf_ in local_pft_lim['local_av'].keys():\n",
    "    local_pft_lim['local_av'][ptf_][local_pft_lim['var_names'].index('LAI')] = (\n",
    "        local_pft_lim['local_av'][ptf_][local_pft_lim['var_names'].index(\n",
    "            'LAI')] * .5)\n",
    "    local_pft_lim['local_LB'][ptf_][local_pft_lim['var_names'].index('LAI')] = (\n",
    "        local_pft_lim['local_LB'][ptf_][local_pft_lim['var_names'].index(\n",
    "            'LAI')] * .5)\n",
    "    local_pft_lim['local_UB'][ptf_][local_pft_lim['var_names'].index('LAI')] = (\n",
    "        local_pft_lim['local_UB'][ptf_][local_pft_lim['var_names'].index(\n",
    "            'LAI')] * .5)\n",
    "\n",
    "# Re-initialize the scene with the same configuration, but provide the local\n",
    "# PFT-dependent limits for the plant traits\n",
    "bosse_M0.initialize_scene(0, seednum_=inputs_0['rseed_num'],\n",
    "                          local_pft_lim=local_pft_lim)\n",
    "X_1 = bosse_M0.pred_scene_timestamp(t_, 'meteo_mdy', 'indx_mdy')\n",
    "\n",
    "# Map again species and PFTs, to show that these do not vary\n",
    "bosse_M0.show_pft_map(fname='Test1_pft', plt_show=False)\n",
    "bosse_M0.show_species_map(fname='Test1_sp',\n",
    "                          title_lb='BOSSE Species map ($S$=%d)' % bosse_M0.S_max,\n",
    "                          plt_show=False)\n",
    "\n",
    "# Plot LAI, the values are lower. Notice that the distributions of values will\n",
    "# not hold necessarily the same as in the \"unconstrained simulation\"\n",
    "bosse_M0.show_bosse_map(\n",
    "    X_1[:, :, bosse_M0.all_vars.index('LAI')],\n",
    "    title_lb=bosse_M0.get_variable_label('LAI'), plt_show=True,\n",
    "    fname='Test1_LAI')\n",
    "\n"
   ]
  },
  {
   "cell_type": "markdown",
   "metadata": {},
   "source": [
    "## **3) ANALYSIS**"
   ]
  },
  {
   "cell_type": "markdown",
   "metadata": {},
   "source": [
    "### 3.1) Introduciton to pyGNDiv"
   ]
  },
  {
   "cell_type": "markdown",
   "metadata": {},
   "source": [
    "Define a function that computes Rao Q and variance-based diveristy partitioning to the plant traits, hypersepectral reflectance factors, and retrieved optical traits from a given scene and time"
   ]
  },
  {
   "cell_type": "code",
   "execution_count": null,
   "metadata": {},
   "outputs": [],
   "source": [
    "def apply_pyGNDiv(bosse_M, PT_, RF_, OT_):   \n",
    "    # Plant traits\n",
    "    # PCA\n",
    "    PCA_in = gni.apply_pca_cube(PT_)\n",
    "    # Rao Q\n",
    "    raoQ_PT, _ = gni.raoQ_grid(PCA_in, wsz_=3)\n",
    "    # Variance-based diveristy partitioning\n",
    "    (SSalpha_PT, SSbeta_PT, SSgamma_PT, f_alpha_PT, f_beta_PT, frac_used_PT\n",
    "    ) = gni.varpart_grid(PCA_in, wsz_=3)\n",
    "\n",
    "    # Reflectance factors\n",
    "    # PCA\n",
    "    PCA_in = gni.apply_pca_cube(RF_)\n",
    "    # Rao Q\n",
    "    raoQ_RF, _ = gni.raoQ_grid(PCA_in, wsz_=3)\n",
    "    # Variance-based diveristy partitioning\n",
    "    (SSalpha_RF, SSbeta_RF, SSgamma_RF, f_alpha_RF, f_beta_RF, frac_used_RF\n",
    "    ) = gni.varpart_grid(PCA_in, wsz_=3)\n",
    "\n",
    "    # Optical traits \n",
    "    # PCA\n",
    "    PCA_in = gni.apply_pca_cube(OT_)\n",
    "    # Rao Q\n",
    "    raoQ_OT, _ = gni.raoQ_grid(PCA_in, wsz_=3)\n",
    "    # Variance-based diveristy partitioning\n",
    "    (SSalpha_OT, SSbeta_OT, SSgamma_OT, f_alpha_OT, f_beta_OT, frac_used_OT\n",
    "    ) = gni.varpart_grid(PCA_in, wsz_=3)\n",
    "    \n",
    "    return(raoQ_PT['RaoQ_mean'], f_alpha_PT, f_beta_PT,\n",
    "           raoQ_RF['RaoQ_mean'], f_alpha_RF, f_beta_RF,\n",
    "           raoQ_OT['RaoQ_mean'], f_alpha_OT, f_beta_OT)"
   ]
  },
  {
   "cell_type": "markdown",
   "metadata": {},
   "source": [
    "## 3.2) Example computing diversity for different spatial patterns"
   ]
  },
  {
   "cell_type": "markdown",
   "metadata": {},
   "source": [
    "For these simulations, select a summer day"
   ]
  },
  {
   "cell_type": "code",
   "execution_count": null,
   "metadata": {},
   "outputs": [],
   "source": [
    "t_ = int(30 * 6.5)"
   ]
  },
  {
   "cell_type": "markdown",
   "metadata": {},
   "source": [
    "Preallocate output"
   ]
  },
  {
   "cell_type": "code",
   "execution_count": null,
   "metadata": {},
   "outputs": [],
   "source": [
    "bosse_spatial_patterns = bosse_M.get_input_descriptors('sp_pattern')\n",
    "\n",
    "df = pd.DataFrame(\n",
    "    data=np.concatenate((np.array([bosse_spatial_patterns]).T,\n",
    "                         np.zeros((3, 9))), axis=1),\n",
    "    columns=['Spatial_Pattern',\n",
    "             'RaoQ_PT', 'f_alpha_PT', 'f_beta_PT',\n",
    "              'RaoQ_RF', 'f_alpha_RF', 'f_beta_RF',\n",
    "              'RaoQ_OT', 'f_alpha_OT', 'f_beta_OT'])"
   ]
  },
  {
   "cell_type": "markdown",
   "metadata": {},
   "source": [
    "Locate the NDVI spectral bands"
   ]
  },
  {
   "cell_type": "code",
   "execution_count": null,
   "metadata": {},
   "outputs": [],
   "source": [
    "I_red = bosse_M.M_R['wl'] == 650\n",
    "I_nir = bosse_M.M_R['wl'] == 800"
   ]
  },
  {
   "cell_type": "markdown",
   "metadata": {},
   "source": [
    "Set to false to speed up the simulation"
   ]
  },
  {
   "cell_type": "code",
   "execution_count": null,
   "metadata": {},
   "outputs": [],
   "source": [
    "inputs_['inspect'] = False"
   ]
  },
  {
   "cell_type": "markdown",
   "metadata": {},
   "source": [
    "Retrieve and partition plant functional diversity for different spatial patterns"
   ]
  },
  {
   "cell_type": "code",
   "execution_count": null,
   "metadata": {},
   "outputs": [],
   "source": [
    "for i_, sp_ in enumerate(bosse_spatial_patterns):\n",
    "    print(f'{sp_} *********************************')\n",
    "    # Update the input options dictionary:\n",
    "    inputs_['sp_pattern'] = sp_\n",
    "    \n",
    "    # Initialize BOSSE class    \n",
    "    bosse_M = BosseModel(inputs_, paths_)\n",
    "\n",
    "    # Intialize scene. 0 correspondos to the file name of the meteo file '*_0.nc'\n",
    "    bosse_M.initialize_scene(0, seednum_=100)\n",
    "\n",
    "    # Show the species map\n",
    "    bosse_M.show_bosse_map(bosse_M.sp_map,\n",
    "                title_lb='Species map ($S$ = %d) with %s pattern' % \n",
    "                (bosse_M.S_max, sp_), cmap='tab20', plt_show=True, fname=(\n",
    "                    output_folder + 'tutorial_3_SpMap_' + inputs_['sp_pattern'] +\n",
    "                    '.png'))\n",
    "    \n",
    "    # Get the plant traits, soil, and meteorological variables\n",
    "    X_ = bosse_M.pred_scene_timestamp(t_, 'meteo_mdy', 'indx_mdy')\n",
    "    \n",
    "    bosse_M.show_bosse_map(X_[:, :, bosse_M.all_vars.index('LAI')],\n",
    "               title_lb=(bosse_M.get_variable_label('LAI') +\n",
    "                         ' with %s pattern' % sp_),\n",
    "               plt_show=True, fname=( output_folder + 'tutorial_3_PT-LAI_' +\n",
    "                                     inputs_['sp_pattern'] + '.png'))\n",
    "    \n",
    "    # Select the plant traits. Match them with the optical traits estimated\n",
    "    # from the reflectance factors\n",
    "    print('Selecting plant traits: ', bosse_M.PT_vars[:-2])\n",
    "    PT_ = X_[:, :, bosse_M.I_pt[:-2]]\n",
    "    \n",
    "    # Get the reflectance factors\n",
    "    RF_ = bosse_M.pred_refl_factors(X_, inputs_['scene_sz'],\n",
    "                                    sp_res=inputs_['spat_res'])\n",
    "\n",
    "    NDVI_ = ((RF_[:, :, I_nir] - RF_[:, :, I_red]) /\n",
    "            (RF_[:, :, I_nir] + RF_[:, :, I_red]))\n",
    "    bosse_M.show_bosse_map(NDVI_,\n",
    "                   title_lb='$NDVI_{\\\\rm sr=100}$ [-] with %s pattern' % sp_,\n",
    "                   plt_show=True, fname=(output_folder + 'tutorial_3_RF-NDVI_' +\n",
    "                                         inputs_['sp_pattern'] + '.png'))\n",
    "    \n",
    "    # Retrieve the Optical Traits\n",
    "    RF_size = RF_.shape\n",
    "    ones_layer = np.ones((RF_size[0] * RF_size[1], 1))\n",
    "    OT_ = bosse_M.pred_opt_traits(np.concatenate((\n",
    "        bosse_M.transf3D_2_2D(RF_), ones_layer *\n",
    "        bosse_M.meteo_mdy.loc[t_, 'tts']), axis=1), RF_size[0])\n",
    "    bosse_M.show_bosse_map(\n",
    "        OT_[:, :, bosse_M.all_vars.index('LAI')],\n",
    "        title_lb=(bosse_M.get_variable_label('LAI',\n",
    "                                             subscript='\\\\rm estimated') +\n",
    "                  ' with %s pattern' % sp_), plt_show=True, fname=(\n",
    "                      output_folder + 'tutorial_3_OT-LAI_' + inputs_['sp_pattern'] +\n",
    "                      '.png'))\n",
    "    \n",
    "    # Compute diversity estimates and store in the dataframe\n",
    "    df.iloc[i_, 0] = sp_\n",
    "    df.iloc[i_, 1:] = apply_pyGNDiv(bosse_M, PT_, RF_, OT_)\n",
    "\n",
    "# Print the results\n",
    "print(df)"
   ]
  },
  {
   "cell_type": "markdown",
   "metadata": {},
   "source": [
    "Plot the diveristy metrics"
   ]
  },
  {
   "cell_type": "code",
   "execution_count": null,
   "metadata": {},
   "outputs": [],
   "source": [
    "print(df)\n",
    "\n",
    "fig, ax = plt.subplots(1, 2, figsize=(8, 4))\n",
    "df.plot(x='Spatial_Pattern', y=['RaoQ_PT', 'RaoQ_RF', 'RaoQ_OT'],\n",
    "        marker='o', ax=ax[0], label=['PT', 'RF', 'OT'])\n",
    "ax[0].set_xlabel('Spatial Pattern')\n",
    "ax[0].set_ylabel(' $Q_{\\\\rm Rao}$ [-]')\n",
    "ax[0].grid()\n",
    "\n",
    "df.plot(x='Spatial_Pattern', y=['f_alpha_PT', 'f_alpha_RF', 'f_alpha_OT'],\n",
    "        marker='o', ax=ax[1], label=['PT', 'RF', 'OT'])\n",
    "ax[1].set_xlabel('Spatial Pattern')\n",
    "ax[1].set_ylabel('$f_{\\\\alpha, \\\\rm variance-based}$ [%]')\n",
    "ax[1].grid()\n",
    "\n",
    "plt.tight_layout()\n",
    "plt.savefig(output_folder + 'tutorial_3_pyGNDIV_metrics.png', dpi=300)\n",
    "plt.show(block=False)"
   ]
  },
  {
   "cell_type": "markdown",
   "metadata": {},
   "source": [
    "## **4) BENCHMARKING SPEED**"
   ]
  },
  {
   "cell_type": "markdown",
   "metadata": {},
   "source": [
    "BOSSE includes a function to test the running speed in a specific machine and configuration that helps to foresee the computational demand of a given set of simulations. The function runs a given number of simulations (\"n_samples\") simulations for different spatial patterns and climatic zones, in each scene, it simulates a specific number of days (\"n_days\") and records for the time required to:\n",
    "  1) Intialize the BOSSE model for that specific configuration and meteorological data\n",
    "  2) Simulate one snahpshot of the different types of remote sensing imagery\n",
    "  3) Simulate diel cycles of ecosystem functions\n",
    "\n",
    "The results can be stored if a file name root (without extension) is provided (\"out_fname\")"
   ]
  },
  {
   "cell_type": "code",
   "execution_count": null,
   "metadata": {},
   "outputs": [],
   "source": [
    "from BOSSE.helpers import benchmark_bosse_speed\n",
    "\n",
    "# Set paths and inputs\n",
    "(inputs_, paths_) = set_up_paths_and_inputs(None, output_folder,\n",
    "                                            pth_root=path_bosse,\n",
    "                                            pth_inputs=pth_inputs,\n",
    "                                            pth_models=pth_models)\n",
    "\n",
    "# Run the test\n",
    "df_ = benchmark_bosse_speed(BosseModel, inputs_, paths_,\n",
    "                            out_fname=output_folder + 'SpeedTest',\n",
    "                            n_samples=1, n_days=12)\n"
   ]
  },
  {
   "cell_type": "markdown",
   "metadata": {},
   "source": [
    "\n",
    "With the average times you can calculate the time it would take to run a specific simulation"
   ]
  },
  {
   "cell_type": "code",
   "execution_count": null,
   "metadata": {},
   "outputs": [],
   "source": [
    "# For a simulation where all the remote sensing data is simulated twice a week\n",
    "# for two years for the four climatic zones and the three spatial patterns, in \n",
    "# ten different sites each\n",
    "num_days = 52 * 2 * 2\n",
    "num_scene_sites = 10 * 3 * 4\n",
    "\n",
    "print('Simulating imagery would take %.2f minutes' % (\n",
    "    (df_.loc[:, 'initialization_etime_s'].mean() * num_scene_sites / 60.) + \n",
    "    (df_.loc[:, 'imagery_simulation_etime_s'].mean() * num_days *\n",
    "     num_scene_sites / 60.)))\n",
    " \n",
    "# For a simulation where hourly ecosystem functions are simulated for two years\n",
    "# for the four climatic zones and the three spatial patterns, in ten different\n",
    "# sites each\n",
    "num_days = 365 * 2\n",
    "num_scene_sites = 10 * 3 * 4\n",
    "\n",
    "print('Simulating hourly ecosystem functions would take %.2f minutes' % (\n",
    "    (df_.loc[:, 'initialization_etime_s'].mean() * num_scene_sites / 60.) + \n",
    "    (df_.loc[:, 'ecofun_simulation_etime_s'].mean() * num_days *\n",
    "     num_scene_sites / 60.)))"
   ]
  }
 ],
 "metadata": {
  "kernelspec": {
   "display_name": "pybosse",
   "language": "python",
   "name": "python3"
  },
  "language_info": {
   "codemirror_mode": {
    "name": "ipython",
    "version": 3
   },
   "file_extension": ".py",
   "mimetype": "text/x-python",
   "name": "python",
   "nbconvert_exporter": "python",
   "pygments_lexer": "ipython3",
   "version": "3.11.11"
  }
 },
 "nbformat": 4,
 "nbformat_minor": 2
}
